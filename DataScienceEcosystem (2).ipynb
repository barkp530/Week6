{
 "cells": [
  {
   "cell_type": "markdown",
   "id": "d8d3138f-df65-436a-8aaa-985ebf2af61f",
   "metadata": {},
   "source": [
    "# Data Science Tools and Ecosystem"
   ]
  },
  {
   "cell_type": "markdown",
   "id": "469458b9-4464-4f0c-a313-fdca5c586f83",
   "metadata": {
    "tags": []
   },
   "source": [
    "In this notebook, Data Science Tools and Ecosystem are summarized."
   ]
  },
  {
   "cell_type": "markdown",
   "id": "70d968e6-7ddb-4d0f-857f-ed605bc509af",
   "metadata": {
    "tags": []
   },
   "source": [
    "**Objectives:**\n",
    "- List some of the popular languages that Data Scientists use\n",
    "- List some of the commonly used libraries used by Data Scientists\n",
    "- List some Data Science tools"
   ]
  },
  {
   "cell_type": "markdown",
   "id": "9f60b1ee-ba13-45e0-8e0f-e7a42d621a0e",
   "metadata": {},
   "source": [
    "Some of the popular languages that Data Scientists use are:\n",
    "1. Python\n",
    "2. Java\n",
    "3. C ++"
   ]
  },
  {
   "cell_type": "markdown",
   "id": "4f894c5f-3a61-4921-9f34-b0e1be0e00d0",
   "metadata": {},
   "source": [
    "Some of the commonly used libraries used by Data Scientists include:\n",
    "1. Numpy\n",
    "2. Pandas\n",
    "3. SciPy\n"
   ]
  },
  {
   "cell_type": "markdown",
   "id": "25568654-6d61-4144-bd33-8090ed93254f",
   "metadata": {
    "tags": []
   },
   "source": [
    "| Data Science Tools |\n",
    "|-----|\n",
    "| GIT |\n",
    "| Jupyter |\n",
    "| R |\n"
   ]
  },
  {
   "cell_type": "markdown",
   "id": "3e926590-5e4d-43fe-9c54-5e6cca38bf37",
   "metadata": {},
   "source": [
    "### Below are a few examples of evaluating arithmetic expressions in Python."
   ]
  },
  {
   "cell_type": "markdown",
   "id": "3ac5ce45-51b2-4488-bd55-2d9a620cfff6",
   "metadata": {},
   "source": [
    "# This a simple arithmetic expression to mutiply then add integers\n",
    "(3*4)+5"
   ]
  },
  {
   "cell_type": "code",
   "execution_count": 17,
   "id": "aab0c828-cdaa-4b39-93ca-69713492e6e2",
   "metadata": {
    "tags": []
   },
   "outputs": [
    {
     "name": "stdout",
     "output_type": "stream",
     "text": [
      "3.3333333333333335\n"
     ]
    }
   ],
   "source": [
    "# This will convert 200 minutes to hours by diving by 60.\n",
    "print(200/60)"
   ]
  },
  {
   "cell_type": "markdown",
   "id": "aa9fa16c-ad50-4e57-b985-52d0f8900504",
   "metadata": {},
   "source": [
    "## Author\n",
    "David Silver"
   ]
  },
  {
   "cell_type": "code",
   "execution_count": null,
   "id": "f6660f4e-d84c-452b-96f4-04585f204b75",
   "metadata": {},
   "outputs": [],
   "source": []
  }
 ],
 "metadata": {
  "kernelspec": {
   "display_name": "Python",
   "language": "python",
   "name": "conda-env-python-py"
  },
  "language_info": {
   "codemirror_mode": {
    "name": "ipython",
    "version": 3
   },
   "file_extension": ".py",
   "mimetype": "text/x-python",
   "name": "python",
   "nbconvert_exporter": "python",
   "pygments_lexer": "ipython3",
   "version": "3.7.12"
  }
 },
 "nbformat": 4,
 "nbformat_minor": 5
}
